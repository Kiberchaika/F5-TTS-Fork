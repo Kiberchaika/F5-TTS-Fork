{
 "cells": [
  {
   "cell_type": "code",
   "execution_count": null,
   "metadata": {},
   "outputs": [],
   "source": [
    "import torch\n",
    "import torchaudio\n",
    "import matplotlib.pyplot as plt\n",
    "import librosa\n",
    "import librosa.display\n",
    "import IPython.display as ipd\n",
    "from f5_tts.model.dataset import *\n",
    "from f5_tts.model.modules import MelSpec\n",
    "from tqdm import tqdm\n",
    "import numpy as np\n",
    "import io\n",
    "import soundfile as sf\n",
    "import json\n",
    "from vocos import Vocos"
   ]
  },
  {
   "cell_type": "code",
   "execution_count": null,
   "metadata": {},
   "outputs": [],
   "source": [
    "def display_sample_with_audio(dataset, index, figsize=(8, 3)):\n",
    "    \"\"\"Display audio sample with playable widget, mel spectrogram and text in Jupyter notebook\"\"\"\n",
    "    sample = dataset[index]\n",
    "    mel_spec = sample['mel_spec']\n",
    "    text = sample['text']\n",
    "    \n",
    "    # Initialize Vocos for mel spectrogram inversion\n",
    "    vocos = Vocos.from_pretrained(\"charactr/vocos-mel-24khz\")\n",
    "    \n",
    "    # Convert mel spectrogram to audio\n",
    "    # Add batch dimension and convert to float32\n",
    "    mel_spec_batch = mel_spec.unsqueeze(0).float()\n",
    "    \n",
    "    # Generate audio from mel spectrogram\n",
    "    with torch.no_grad():\n",
    "        audio = vocos.decode(mel_spec_batch)\n",
    "        \n",
    "    # Remove batch dimension\n",
    "    audio = audio.squeeze(0)\n",
    "\n",
    "    # Display header\n",
    "    print(f\"\\n{'='*80}\")\n",
    "    print(f\"Sample {index + 1}\")\n",
    "    print(f\"{'='*80}\")\n",
    "    \n",
    "    # Display audio player\n",
    "    print(\"Audio Player (Reconstructed from Mel Spectrogram):\")\n",
    "    display(ipd.Audio(audio.numpy(), rate=dataset.target_sample_rate))\n",
    "    \n",
    "    # Load and display lyrics segments\n",
    "    json_path = dataset.json_files[index % len(dataset.json_files)]\n",
    "    with open(json_path, 'r', encoding='utf-8') as f:\n",
    "        segments = json.load(f)\n",
    "    \n",
    "    # Print text information\n",
    "    print(f\"\\nText: {text}\")\n",
    "    '''\n",
    "    print(f\"Mel Spectrogram Shape: {mel_spec.shape}\")\n",
    "    print(\"\\nDetailed segments:\")\n",
    "    for i, segment in enumerate(segments):\n",
    "        print(f\"{i+1}. [{segment['start']:.2f}s - {segment['end']:.2f}s]: {segment['text']}\")\n",
    "    print(f\"{'='*80}\")\n",
    "    \n",
    "    # Create figure for spectrogram\n",
    "    fig, ax = plt.subplots(1, 1, figsize=figsize)\n",
    "    \n",
    "    # Plot mel spectrogram\n",
    "    img = librosa.display.specshow(\n",
    "        mel_spec.numpy(),\n",
    "        y_axis='mel',\n",
    "        x_axis='time',\n",
    "        sr=dataset.target_sample_rate,\n",
    "        hop_length=dataset.hop_length,\n",
    "        ax=ax\n",
    "    )\n",
    "    fig.colorbar(img, ax=ax, format='%+2.0f dB')\n",
    "    ax.set_title('Mel Spectrogram')\n",
    "    \n",
    "    plt.tight_layout()\n",
    "    plt.show()\n",
    "    #'''\n",
    "    \n",
    "    print(\"\\n\" + \"-\"*80 + \"\\n\")\n"
   ]
  },
  {
   "cell_type": "code",
   "execution_count": null,
   "metadata": {},
   "outputs": [],
   "source": [
    "dataset = RussianSingingDataset(\n",
    "    target_sample_rate=24_000,\n",
    "    hop_length=256,\n",
    "    n_mel_channels=100,\n",
    "    n_fft=1024,\n",
    "    win_length=1024,\n",
    "    mel_spec_type=\"vocos\",\n",
    ")"
   ]
  },
  {
   "cell_type": "code",
   "execution_count": null,
   "metadata": {},
   "outputs": [],
   "source": [
    "for i in range(5):\n",
    "    display_sample_with_audio(dataset, i)"
   ]
  }
 ],
 "metadata": {
  "kernelspec": {
   "display_name": ".venv",
   "language": "python",
   "name": "python3"
  },
  "language_info": {
   "codemirror_mode": {
    "name": "ipython",
    "version": 3
   },
   "file_extension": ".py",
   "mimetype": "text/x-python",
   "name": "python",
   "nbconvert_exporter": "python",
   "pygments_lexer": "ipython3",
   "version": "3.10.14"
  }
 },
 "nbformat": 4,
 "nbformat_minor": 2
}
